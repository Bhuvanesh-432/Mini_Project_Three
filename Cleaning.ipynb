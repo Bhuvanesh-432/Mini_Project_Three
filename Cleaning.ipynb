{
 "cells": [
  {
   "cell_type": "code",
   "execution_count": 1,
   "id": "ac67e232",
   "metadata": {},
   "outputs": [
    {
     "name": "stdout",
     "output_type": "stream",
     "text": [
      "✅ Conversion complete! Saved as: household_power_consumption.csv\n"
     ]
    }
   ],
   "source": [
    "import pandas as pd\n",
    "\n",
    "# Replace with your actual .txt file path\n",
    "input_file = \"household_power_consumption.txt\"\n",
    "output_file = \"household_power_consumption.csv\"\n",
    "\n",
    "# Read .txt using semicolon separator\n",
    "df = pd.read_csv(input_file, sep=';', low_memory=False)\n",
    "\n",
    "# Save as .csv\n",
    "df.to_csv(output_file, index=False)\n",
    "\n",
    "print(\"✅ Conversion complete! Saved as:\", output_file)\n"
   ]
  },
  {
   "cell_type": "code",
   "execution_count": 2,
   "id": "19799d77",
   "metadata": {},
   "outputs": [
    {
     "name": "stdout",
     "output_type": "stream",
     "text": [
      "✅ Cleaned and converted to CSV: cleaned_power_data.csv\n"
     ]
    }
   ],
   "source": [
    "import pandas as pd\n",
    "\n",
    "# Load txt with semicolon\n",
    "df = pd.read_csv(\"household_power_consumption.txt\", sep=';', low_memory=False, na_values='?')\n",
    "\n",
    "# Combine Date & Time\n",
    "df['Datetime'] = pd.to_datetime(df['Date'] + ' ' + df['Time'], dayfirst=True)\n",
    "\n",
    "# Drop old columns\n",
    "df.drop(['Date', 'Time'], axis=1, inplace=True)\n",
    "\n",
    "# Reorder\n",
    "df = df[['Datetime'] + [col for col in df.columns if col != 'Datetime']]\n",
    "\n",
    "# Drop rows with missing values\n",
    "df.dropna(inplace=True)\n",
    "\n",
    "# Convert to numeric\n",
    "for col in df.columns[1:]:\n",
    "    df[col] = pd.to_numeric(df[col], errors='coerce')\n",
    "\n",
    "# Save to CSV\n",
    "df.to_csv(\"cleaned_power_data.csv\", index=False)\n",
    "\n",
    "print(\"✅ Cleaned and converted to CSV: cleaned_power_data.csv\")\n"
   ]
  },
  {
   "cell_type": "code",
   "execution_count": null,
   "id": "2595ccc6",
   "metadata": {},
   "outputs": [],
   "source": [
    "df = pd.read_csv(\"cleaned_power_data.csv\", parse_dates=[\"Datetime\"])\n"
   ]
  }
 ],
 "metadata": {
  "kernelspec": {
   "display_name": "Python 3",
   "language": "python",
   "name": "python3"
  },
  "language_info": {
   "codemirror_mode": {
    "name": "ipython",
    "version": 3
   },
   "file_extension": ".py",
   "mimetype": "text/x-python",
   "name": "python",
   "nbconvert_exporter": "python",
   "pygments_lexer": "ipython3",
   "version": "3.13.2"
  }
 },
 "nbformat": 4,
 "nbformat_minor": 5
}
